{
  "nbformat": 4,
  "nbformat_minor": 0,
  "metadata": {
    "colab": {
      "provenance": [],
      "authorship_tag": "ABX9TyNGrZDjuZbX1DGy5HNO+I0H",
      "include_colab_link": true
    },
    "kernelspec": {
      "name": "python3",
      "display_name": "Python 3"
    },
    "language_info": {
      "name": "python"
    }
  },
  "cells": [
    {
      "cell_type": "markdown",
      "metadata": {
        "id": "view-in-github",
        "colab_type": "text"
      },
      "source": [
        "<a href=\"https://colab.research.google.com/github/kyryloqaua/Image-Processing-with-Python/blob/main/Solution_to_a_problem.ipynb\" target=\"_parent\"><img src=\"https://colab.research.google.com/assets/colab-badge.svg\" alt=\"Open In Colab\"/></a>"
      ]
    },
    {
      "cell_type": "code",
      "execution_count": 134,
      "metadata": {
        "id": "SAn7suOSTF9I"
      },
      "outputs": [],
      "source": [
        "class User:\n",
        "    def __init__(self, name, username, email):\n",
        "        self.name = name\n",
        "        self.username = username\n",
        "        self.email = email\n",
        "\n",
        "    def __repr__(self):\n",
        "        return \"User(name=%s, username=%s, email=%s)\" % (self.name, self.username, self.email)\n",
        "\n",
        "    def __str__(self):\n",
        "        return self.__repr__()"
      ]
    },
    {
      "cell_type": "code",
      "source": [
        "user1 = User(name='John Doe', username='johndoe', email='johndoe@example.com')"
      ],
      "metadata": {
        "id": "5Xl7CChjTmTr"
      },
      "execution_count": 135,
      "outputs": []
    },
    {
      "cell_type": "code",
      "source": [
        "user1.name"
      ],
      "metadata": {
        "colab": {
          "base_uri": "https://localhost:8080/",
          "height": 35
        },
        "id": "nSX3A0wiT0cl",
        "outputId": "8c32a7c7-8808-4689-8381-27c9dbcd9fa6"
      },
      "execution_count": 136,
      "outputs": [
        {
          "output_type": "execute_result",
          "data": {
            "text/plain": [
              "'John Doe'"
            ],
            "application/vnd.google.colaboratory.intrinsic+json": {
              "type": "string"
            }
          },
          "metadata": {},
          "execution_count": 136
        }
      ]
    },
    {
      "cell_type": "code",
      "source": [
        "user1.username\n",
        "\n"
      ],
      "metadata": {
        "colab": {
          "base_uri": "https://localhost:8080/",
          "height": 35
        },
        "id": "wovUzTboT5lm",
        "outputId": "5e4d7362-c588-4788-c226-c7f67fbffcbd"
      },
      "execution_count": 137,
      "outputs": [
        {
          "output_type": "execute_result",
          "data": {
            "text/plain": [
              "'johndoe'"
            ],
            "application/vnd.google.colaboratory.intrinsic+json": {
              "type": "string"
            }
          },
          "metadata": {},
          "execution_count": 137
        }
      ]
    },
    {
      "cell_type": "code",
      "source": [
        "user1.email"
      ],
      "metadata": {
        "colab": {
          "base_uri": "https://localhost:8080/",
          "height": 35
        },
        "id": "Ii2dAqvpUGlh",
        "outputId": "e09c107f-f05e-48eb-b034-acf0f51c0e2f"
      },
      "execution_count": 138,
      "outputs": [
        {
          "output_type": "execute_result",
          "data": {
            "text/plain": [
              "'johndoe@example.com'"
            ],
            "application/vnd.google.colaboratory.intrinsic+json": {
              "type": "string"
            }
          },
          "metadata": {},
          "execution_count": 138
        }
      ]
    },
    {
      "cell_type": "code",
      "source": [
        "type(user1)"
      ],
      "metadata": {
        "colab": {
          "base_uri": "https://localhost:8080/",
          "height": 103
        },
        "id": "LWUyHTFeUMZ-",
        "outputId": "16e2917c-aad2-43e3-c477-22b7d7c2718a"
      },
      "execution_count": 139,
      "outputs": [
        {
          "output_type": "execute_result",
          "data": {
            "text/plain": [
              "__main__.User"
            ],
            "text/html": [
              "<div style=\"max-width:800px; border: 1px solid var(--colab-border-color);\"><style>\n",
              "      pre.function-repr-contents {\n",
              "        overflow-x: auto;\n",
              "        padding: 8px 12px;\n",
              "        max-height: 500px;\n",
              "      }\n",
              "\n",
              "      pre.function-repr-contents.function-repr-contents-collapsed {\n",
              "        cursor: pointer;\n",
              "        max-height: 100px;\n",
              "      }\n",
              "    </style>\n",
              "    <pre style=\"white-space: initial; background:\n",
              "         var(--colab-secondary-surface-color); padding: 8px 12px;\n",
              "         border-bottom: 1px solid var(--colab-border-color);\"><b>User</b><br/>def __init__(name, username, email)</pre><pre class=\"function-repr-contents function-repr-contents-collapsed\" style=\"\"><a class=\"filepath\" style=\"display:none\" href=\"#\"></a>&lt;no docstring&gt;</pre></div>"
            ]
          },
          "metadata": {},
          "execution_count": 139
        }
      ]
    },
    {
      "cell_type": "code",
      "source": [
        "user2 = User(name='Jane Doe', username='janedoe', email='janedoe@example.com')"
      ],
      "metadata": {
        "id": "2TpLpUstUP1U"
      },
      "execution_count": 140,
      "outputs": []
    },
    {
      "cell_type": "code",
      "source": [
        "user3 = User(name='Alice Smith', username='alicesmith', email='alicesmith@example.com')"
      ],
      "metadata": {
        "id": "dBdBV-jCUd5j"
      },
      "execution_count": 141,
      "outputs": []
    },
    {
      "cell_type": "code",
      "source": [
        "user4 = User(name='Bob Johnson', username='bobjohnson', email='bobjohnson@example.com')"
      ],
      "metadata": {
        "id": "HVaFXrn-Ukon"
      },
      "execution_count": 142,
      "outputs": []
    },
    {
      "cell_type": "code",
      "source": [
        "user5 = User(name='Charlie Brown', username='charliebrown', email='charliebrown@example.com')"
      ],
      "metadata": {
        "id": "kPRlgEZKUosG"
      },
      "execution_count": 143,
      "outputs": []
    },
    {
      "cell_type": "code",
      "source": [
        "user6 = User(name='David Lee', username='davidlee', email='davidlee@example.com')"
      ],
      "metadata": {
        "id": "4VHdlonuUqrZ"
      },
      "execution_count": 144,
      "outputs": []
    },
    {
      "cell_type": "code",
      "source": [
        "class UserDatabase:\n",
        "    def insert(self, user):\n",
        "        print(f\"Inserting {user}\")\n",
        "    def update(self, user):\n",
        "        print(f\"Updating {user}\")\n",
        "    def find(self, username):\n",
        "        print(f\"Finding {username}\")\n",
        "    def list(self):\n",
        "        print(\"Listing users\")"
      ],
      "metadata": {
        "id": "UzXNDXkzWbm8"
      },
      "execution_count": 145,
      "outputs": []
    },
    {
      "cell_type": "code",
      "source": [
        "users = []"
      ],
      "metadata": {
        "id": "REOGUumXW1Bw"
      },
      "execution_count": 146,
      "outputs": []
    },
    {
      "cell_type": "code",
      "source": [
        "users = [user1, user2, user3, user4, user5, user6]"
      ],
      "metadata": {
        "id": "Fv3ePyNOXiAE"
      },
      "execution_count": 147,
      "outputs": []
    },
    {
      "cell_type": "code",
      "source": [
        "print(users)"
      ],
      "metadata": {
        "colab": {
          "base_uri": "https://localhost:8080/"
        },
        "id": "ORvRGBSbXoB_",
        "outputId": "67eaf25b-f61c-4d18-f556-ce6b4387aa78"
      },
      "execution_count": 148,
      "outputs": [
        {
          "output_type": "stream",
          "name": "stdout",
          "text": [
            "[User(name=John Doe, username=johndoe, email=johndoe@example.com), User(name=Jane Doe, username=janedoe, email=janedoe@example.com), User(name=Alice Smith, username=alicesmith, email=alicesmith@example.com), User(name=Bob Johnson, username=bobjohnson, email=bobjohnson@example.com), User(name=Charlie Brown, username=charliebrown, email=charliebrown@example.com), User(name=David Lee, username=davidlee, email=davidlee@example.com)]\n"
          ]
        }
      ]
    },
    {
      "cell_type": "code",
      "source": [
        "user4.email"
      ],
      "metadata": {
        "colab": {
          "base_uri": "https://localhost:8080/",
          "height": 35
        },
        "id": "81Y9Yvg4Xs-w",
        "outputId": "f992856d-e687-4e6e-bcb4-0932b4c070b4"
      },
      "execution_count": 149,
      "outputs": [
        {
          "output_type": "execute_result",
          "data": {
            "text/plain": [
              "'bobjohnson@example.com'"
            ],
            "application/vnd.google.colaboratory.intrinsic+json": {
              "type": "string"
            }
          },
          "metadata": {},
          "execution_count": 149
        }
      ]
    },
    {
      "cell_type": "code",
      "source": [
        "print(user4)"
      ],
      "metadata": {
        "colab": {
          "base_uri": "https://localhost:8080/"
        },
        "id": "kd3dpzT1Xxms",
        "outputId": "7c8d351d-7510-4112-e4b7-b50dbdf8bb12"
      },
      "execution_count": 150,
      "outputs": [
        {
          "output_type": "stream",
          "name": "stdout",
          "text": [
            "User(name=Bob Johnson, username=bobjohnson, email=bobjohnson@example.com)\n"
          ]
        }
      ]
    },
    {
      "cell_type": "code",
      "source": [
        "'user3' < 'user4'"
      ],
      "metadata": {
        "colab": {
          "base_uri": "https://localhost:8080/"
        },
        "id": "Lvto2fRCX_ZK",
        "outputId": "70ecff34-1f0a-4822-8bd2-c36319f77123"
      },
      "execution_count": 151,
      "outputs": [
        {
          "output_type": "execute_result",
          "data": {
            "text/plain": [
              "True"
            ]
          },
          "metadata": {},
          "execution_count": 151
        }
      ]
    },
    {
      "cell_type": "code",
      "source": [
        "class UserDatabase:\n",
        "    def __init__(self):\n",
        "        self.users = []\n",
        "    def insert(self, user):\n",
        "        i = 0\n",
        "        while i < len(self.users) and self.users[i].username < user.username:\n",
        "            i += 1\n",
        "        self.users.insert(i, user)\n",
        "        print(f\"Inserting {user}\")\n",
        "\n",
        "    def find(self, username):\n",
        "        for user in self.users:\n",
        "            if user.username == username:\n",
        "                return user\n",
        "        print(f\"Finding {username}\")\n",
        "\n",
        "    def update(self, user):\n",
        "        target = self.find(user.username)\n",
        "        if target:\n",
        "            target.name = user.name\n",
        "            target.username = user.username\n",
        "            target.email = user.email\n",
        "        print(f\"Updating {user}\")\n",
        "\n",
        "    def list(self):\n",
        "        return self.users\n",
        "        print(\"Listing users\")"
      ],
      "metadata": {
        "id": "sc6jkXX2YNJp"
      },
      "execution_count": 152,
      "outputs": []
    },
    {
      "cell_type": "code",
      "source": [
        "database = UserDatabase()"
      ],
      "metadata": {
        "id": "fwl_316mazJY"
      },
      "execution_count": 153,
      "outputs": []
    },
    {
      "cell_type": "code",
      "source": [
        "print(database.users)"
      ],
      "metadata": {
        "colab": {
          "base_uri": "https://localhost:8080/"
        },
        "id": "hdxE13Gia2_1",
        "outputId": "4c742e1e-ddad-49c5-aec5-1680cf78914b"
      },
      "execution_count": 154,
      "outputs": [
        {
          "output_type": "stream",
          "name": "stdout",
          "text": [
            "[]\n"
          ]
        }
      ]
    },
    {
      "cell_type": "code",
      "source": [
        "database.insert(user1)"
      ],
      "metadata": {
        "colab": {
          "base_uri": "https://localhost:8080/"
        },
        "id": "D2pZzi8sa7y0",
        "outputId": "d1bac1a5-76c6-4311-cbc0-5abdb2233891"
      },
      "execution_count": 155,
      "outputs": [
        {
          "output_type": "stream",
          "name": "stdout",
          "text": [
            "Inserting User(name=John Doe, username=johndoe, email=johndoe@example.com)\n"
          ]
        }
      ]
    },
    {
      "cell_type": "code",
      "source": [
        "database.insert(user2)"
      ],
      "metadata": {
        "colab": {
          "base_uri": "https://localhost:8080/"
        },
        "id": "yqa4hvYIbGSw",
        "outputId": "58273d63-41fd-4c06-a138-ee37ee4642b4"
      },
      "execution_count": 156,
      "outputs": [
        {
          "output_type": "stream",
          "name": "stdout",
          "text": [
            "Inserting User(name=Jane Doe, username=janedoe, email=janedoe@example.com)\n"
          ]
        }
      ]
    },
    {
      "cell_type": "code",
      "source": [
        "database.insert(user3)"
      ],
      "metadata": {
        "colab": {
          "base_uri": "https://localhost:8080/"
        },
        "id": "9Yf3RihobJzI",
        "outputId": "9f659767-ab82-4dad-c339-2fafc87934c8"
      },
      "execution_count": 157,
      "outputs": [
        {
          "output_type": "stream",
          "name": "stdout",
          "text": [
            "Inserting User(name=Alice Smith, username=alicesmith, email=alicesmith@example.com)\n"
          ]
        }
      ]
    },
    {
      "cell_type": "code",
      "source": [
        "database.insert(user4)"
      ],
      "metadata": {
        "colab": {
          "base_uri": "https://localhost:8080/"
        },
        "id": "lMHuwD4ZbLz0",
        "outputId": "86db7778-5b1b-4517-aa00-77cdf897366f"
      },
      "execution_count": 158,
      "outputs": [
        {
          "output_type": "stream",
          "name": "stdout",
          "text": [
            "Inserting User(name=Bob Johnson, username=bobjohnson, email=bobjohnson@example.com)\n"
          ]
        }
      ]
    },
    {
      "cell_type": "code",
      "source": [
        "users"
      ],
      "metadata": {
        "colab": {
          "base_uri": "https://localhost:8080/"
        },
        "id": "nNMO_SsKbSda",
        "outputId": "c34f3fa9-e6b8-416a-e208-2a268a2e7836"
      },
      "execution_count": 159,
      "outputs": [
        {
          "output_type": "execute_result",
          "data": {
            "text/plain": [
              "[User(name=John Doe, username=johndoe, email=johndoe@example.com),\n",
              " User(name=Jane Doe, username=janedoe, email=janedoe@example.com),\n",
              " User(name=Alice Smith, username=alicesmith, email=alicesmith@example.com),\n",
              " User(name=Bob Johnson, username=bobjohnson, email=bobjohnson@example.com),\n",
              " User(name=Charlie Brown, username=charliebrown, email=charliebrown@example.com),\n",
              " User(name=David Lee, username=davidlee, email=davidlee@example.com)]"
            ]
          },
          "metadata": {},
          "execution_count": 159
        }
      ]
    },
    {
      "cell_type": "code",
      "source": [
        "database.list()"
      ],
      "metadata": {
        "colab": {
          "base_uri": "https://localhost:8080/"
        },
        "id": "wNZCSjl5bg34",
        "outputId": "9b6a74d6-c193-45c1-c5db-3ba4b68c8857"
      },
      "execution_count": 160,
      "outputs": [
        {
          "output_type": "execute_result",
          "data": {
            "text/plain": [
              "[User(name=Alice Smith, username=alicesmith, email=alicesmith@example.com),\n",
              " User(name=Bob Johnson, username=bobjohnson, email=bobjohnson@example.com),\n",
              " User(name=Jane Doe, username=janedoe, email=janedoe@example.com),\n",
              " User(name=John Doe, username=johndoe, email=johndoe@example.com)]"
            ]
          },
          "metadata": {},
          "execution_count": 160
        }
      ]
    },
    {
      "cell_type": "code",
      "source": [
        "database.insert(user5)"
      ],
      "metadata": {
        "colab": {
          "base_uri": "https://localhost:8080/"
        },
        "id": "93e0rloVb0gi",
        "outputId": "22e7e923-03dc-435c-bab4-da269e922b3a"
      },
      "execution_count": 161,
      "outputs": [
        {
          "output_type": "stream",
          "name": "stdout",
          "text": [
            "Inserting User(name=Charlie Brown, username=charliebrown, email=charliebrown@example.com)\n"
          ]
        }
      ]
    },
    {
      "cell_type": "code",
      "source": [
        "database.insert(user6)"
      ],
      "metadata": {
        "colab": {
          "base_uri": "https://localhost:8080/"
        },
        "id": "qkv4Byvab5Bv",
        "outputId": "3f1805c1-a7b4-4f21-be82-1b21d5a836d3"
      },
      "execution_count": 162,
      "outputs": [
        {
          "output_type": "stream",
          "name": "stdout",
          "text": [
            "Inserting User(name=David Lee, username=davidlee, email=davidlee@example.com)\n"
          ]
        }
      ]
    },
    {
      "cell_type": "code",
      "source": [
        "database.list()"
      ],
      "metadata": {
        "colab": {
          "base_uri": "https://localhost:8080/"
        },
        "id": "Zi4LFUNJb7FJ",
        "outputId": "7ce25b6a-a320-4779-f43c-1210fd0f40ee"
      },
      "execution_count": 163,
      "outputs": [
        {
          "output_type": "execute_result",
          "data": {
            "text/plain": [
              "[User(name=Alice Smith, username=alicesmith, email=alicesmith@example.com),\n",
              " User(name=Bob Johnson, username=bobjohnson, email=bobjohnson@example.com),\n",
              " User(name=Charlie Brown, username=charliebrown, email=charliebrown@example.com),\n",
              " User(name=David Lee, username=davidlee, email=davidlee@example.com),\n",
              " User(name=Jane Doe, username=janedoe, email=janedoe@example.com),\n",
              " User(name=John Doe, username=johndoe, email=johndoe@example.com)]"
            ]
          },
          "metadata": {},
          "execution_count": 163
        }
      ]
    },
    {
      "cell_type": "code",
      "source": [
        "database.find('johndoe')"
      ],
      "metadata": {
        "colab": {
          "base_uri": "https://localhost:8080/"
        },
        "id": "0AF0vk8ZcAzL",
        "outputId": "c0e2bd38-0918-41d9-ccc2-fb7dfb78e5d4"
      },
      "execution_count": 164,
      "outputs": [
        {
          "output_type": "execute_result",
          "data": {
            "text/plain": [
              "User(name=John Doe, username=johndoe, email=johndoe@example.com)"
            ]
          },
          "metadata": {},
          "execution_count": 164
        }
      ]
    },
    {
      "cell_type": "code",
      "source": [
        "database.update(User(name='J', username='clock', email='johndoe@example.com'))"
      ],
      "metadata": {
        "colab": {
          "base_uri": "https://localhost:8080/"
        },
        "id": "cNFHGAx1cEQG",
        "outputId": "ce6ec753-7fbe-47b3-c9fa-13f90f008a81"
      },
      "execution_count": 165,
      "outputs": [
        {
          "output_type": "stream",
          "name": "stdout",
          "text": [
            "Finding clock\n",
            "Updating User(name=J, username=clock, email=johndoe@example.com)\n"
          ]
        }
      ]
    },
    {
      "cell_type": "code",
      "source": [
        "database.list()"
      ],
      "metadata": {
        "colab": {
          "base_uri": "https://localhost:8080/"
        },
        "id": "DlXH4VZfdeJe",
        "outputId": "2afbba17-f34c-49bc-ad29-8e4ca206f53f"
      },
      "execution_count": 166,
      "outputs": [
        {
          "output_type": "execute_result",
          "data": {
            "text/plain": [
              "[User(name=Alice Smith, username=alicesmith, email=alicesmith@example.com),\n",
              " User(name=Bob Johnson, username=bobjohnson, email=bobjohnson@example.com),\n",
              " User(name=Charlie Brown, username=charliebrown, email=charliebrown@example.com),\n",
              " User(name=David Lee, username=davidlee, email=davidlee@example.com),\n",
              " User(name=Jane Doe, username=janedoe, email=janedoe@example.com),\n",
              " User(name=John Doe, username=johndoe, email=johndoe@example.com)]"
            ]
          },
          "metadata": {},
          "execution_count": 166
        }
      ]
    },
    {
      "cell_type": "code",
      "source": [
        "database.find('johndoe')"
      ],
      "metadata": {
        "colab": {
          "base_uri": "https://localhost:8080/"
        },
        "id": "4z3_Ki4Fd3N-",
        "outputId": "2cbe379c-3fa1-426f-c5ad-42fb6417f318"
      },
      "execution_count": 167,
      "outputs": [
        {
          "output_type": "execute_result",
          "data": {
            "text/plain": [
              "User(name=John Doe, username=johndoe, email=johndoe@example.com)"
            ]
          },
          "metadata": {},
          "execution_count": 167
        }
      ]
    },
    {
      "cell_type": "code",
      "source": [
        "user = database.find('johndoe')"
      ],
      "metadata": {
        "id": "4ISEPuRNd6VW"
      },
      "execution_count": 168,
      "outputs": []
    },
    {
      "cell_type": "code",
      "source": [
        "user"
      ],
      "metadata": {
        "colab": {
          "base_uri": "https://localhost:8080/"
        },
        "id": "8md1GF1WeG3o",
        "outputId": "4ac7a148-89b5-4efc-9060-ce06a3e039ca"
      },
      "execution_count": 169,
      "outputs": [
        {
          "output_type": "execute_result",
          "data": {
            "text/plain": [
              "User(name=John Doe, username=johndoe, email=johndoe@example.com)"
            ]
          },
          "metadata": {},
          "execution_count": 169
        }
      ]
    },
    {
      "cell_type": "code",
      "source": [
        "database.update(User(name='John D', username='johndoe', email='johndoe@example.com'))"
      ],
      "metadata": {
        "colab": {
          "base_uri": "https://localhost:8080/"
        },
        "id": "9ZVTuyU-fGIk",
        "outputId": "cf637c1e-2e63-49d7-9020-0b6e50b69c26"
      },
      "execution_count": 170,
      "outputs": [
        {
          "output_type": "stream",
          "name": "stdout",
          "text": [
            "Updating User(name=John D, username=johndoe, email=johndoe@example.com)\n"
          ]
        }
      ]
    },
    {
      "cell_type": "code",
      "source": [
        "database.list()"
      ],
      "metadata": {
        "colab": {
          "base_uri": "https://localhost:8080/"
        },
        "id": "nAOaQllwfS5i",
        "outputId": "f1514fd6-6178-4a39-e790-e1b9bd2d1b83"
      },
      "execution_count": 171,
      "outputs": [
        {
          "output_type": "execute_result",
          "data": {
            "text/plain": [
              "[User(name=Alice Smith, username=alicesmith, email=alicesmith@example.com),\n",
              " User(name=Bob Johnson, username=bobjohnson, email=bobjohnson@example.com),\n",
              " User(name=Charlie Brown, username=charliebrown, email=charliebrown@example.com),\n",
              " User(name=David Lee, username=davidlee, email=davidlee@example.com),\n",
              " User(name=Jane Doe, username=janedoe, email=janedoe@example.com),\n",
              " User(name=John D, username=johndoe, email=johndoe@example.com)]"
            ]
          },
          "metadata": {},
          "execution_count": 171
        }
      ]
    },
    {
      "cell_type": "code",
      "source": [
        "user7 = User(name='Carl White', username='carlbread', email='clock@example.com')"
      ],
      "metadata": {
        "id": "CPh2_UaYgGnC"
      },
      "execution_count": 172,
      "outputs": []
    },
    {
      "cell_type": "code",
      "source": [
        "user7"
      ],
      "metadata": {
        "colab": {
          "base_uri": "https://localhost:8080/"
        },
        "id": "LfYnvQvNg5E9",
        "outputId": "b30e4412-b622-4ea8-db19-ffc602ade6a2"
      },
      "execution_count": 173,
      "outputs": [
        {
          "output_type": "execute_result",
          "data": {
            "text/plain": [
              "User(name=Carl White, username=carlbread, email=clock@example.com)"
            ]
          },
          "metadata": {},
          "execution_count": 173
        }
      ]
    },
    {
      "cell_type": "code",
      "source": [
        "users"
      ],
      "metadata": {
        "colab": {
          "base_uri": "https://localhost:8080/"
        },
        "id": "75obHBtkg_ww",
        "outputId": "d62a7a49-54df-44f7-e02d-bba5d8fe408f"
      },
      "execution_count": 174,
      "outputs": [
        {
          "output_type": "execute_result",
          "data": {
            "text/plain": [
              "[User(name=John D, username=johndoe, email=johndoe@example.com),\n",
              " User(name=Jane Doe, username=janedoe, email=janedoe@example.com),\n",
              " User(name=Alice Smith, username=alicesmith, email=alicesmith@example.com),\n",
              " User(name=Bob Johnson, username=bobjohnson, email=bobjohnson@example.com),\n",
              " User(name=Charlie Brown, username=charliebrown, email=charliebrown@example.com),\n",
              " User(name=David Lee, username=davidlee, email=davidlee@example.com)]"
            ]
          },
          "metadata": {},
          "execution_count": 174
        }
      ]
    },
    {
      "cell_type": "code",
      "source": [
        "user7 = User(name='Carl White', username='carlbread', email='clock@example.com')"
      ],
      "metadata": {
        "id": "6hYVlPcThGQN"
      },
      "execution_count": 176,
      "outputs": []
    },
    {
      "cell_type": "code",
      "source": [
        "users.append(user7)"
      ],
      "metadata": {
        "id": "7m6vR7RdhiKK"
      },
      "execution_count": 177,
      "outputs": []
    },
    {
      "cell_type": "code",
      "source": [
        "users"
      ],
      "metadata": {
        "colab": {
          "base_uri": "https://localhost:8080/"
        },
        "id": "YGJo0XjxhmMj",
        "outputId": "6a1b0a3b-26c4-4511-a8fa-dbdc10b21f23"
      },
      "execution_count": 178,
      "outputs": [
        {
          "output_type": "execute_result",
          "data": {
            "text/plain": [
              "[User(name=John D, username=johndoe, email=johndoe@example.com),\n",
              " User(name=Jane Doe, username=janedoe, email=janedoe@example.com),\n",
              " User(name=Alice Smith, username=alicesmith, email=alicesmith@example.com),\n",
              " User(name=Bob Johnson, username=bobjohnson, email=bobjohnson@example.com),\n",
              " User(name=Charlie Brown, username=charliebrown, email=charliebrown@example.com),\n",
              " User(name=David Lee, username=davidlee, email=davidlee@example.com),\n",
              " User(name=Carl White, username=carlbread, email=clock@example.com)]"
            ]
          },
          "metadata": {},
          "execution_count": 178
        }
      ]
    },
    {
      "cell_type": "code",
      "source": [
        "database.insert(user7)"
      ],
      "metadata": {
        "colab": {
          "base_uri": "https://localhost:8080/"
        },
        "id": "K9eOLxAFho_f",
        "outputId": "da17875b-590c-40f6-93a0-841fb24db33f"
      },
      "execution_count": 179,
      "outputs": [
        {
          "output_type": "stream",
          "name": "stdout",
          "text": [
            "Inserting User(name=Carl White, username=carlbread, email=clock@example.com)\n"
          ]
        }
      ]
    },
    {
      "cell_type": "code",
      "source": [
        "database.list()"
      ],
      "metadata": {
        "colab": {
          "base_uri": "https://localhost:8080/"
        },
        "id": "a_sJdiumhxtu",
        "outputId": "b0149f3b-9332-4fb2-9e40-aa3687e4a322"
      },
      "execution_count": 180,
      "outputs": [
        {
          "output_type": "execute_result",
          "data": {
            "text/plain": [
              "[User(name=Alice Smith, username=alicesmith, email=alicesmith@example.com),\n",
              " User(name=Bob Johnson, username=bobjohnson, email=bobjohnson@example.com),\n",
              " User(name=Carl White, username=carlbread, email=clock@example.com),\n",
              " User(name=Charlie Brown, username=charliebrown, email=charliebrown@example.com),\n",
              " User(name=David Lee, username=davidlee, email=davidlee@example.com),\n",
              " User(name=Jane Doe, username=janedoe, email=janedoe@example.com),\n",
              " User(name=John D, username=johndoe, email=johndoe@example.com)]"
            ]
          },
          "metadata": {},
          "execution_count": 180
        }
      ]
    },
    {
      "cell_type": "code",
      "source": [],
      "metadata": {
        "id": "6PAFZMBCh2Da"
      },
      "execution_count": null,
      "outputs": []
    }
  ]
}